{
 "cells": [
  {
   "cell_type": "code",
   "execution_count": 1,
   "id": "ddd3eea7",
   "metadata": {},
   "outputs": [],
   "source": [
    "import pandas as pd \n",
    "import matplotlib.pyplot as plt \n",
    "from statsmodels.tsa.seasonal import seasonal_decompose\n",
    "from tensorflow.keras.models import Sequential\n",
    "from tensorflow.keras.layers import Dense,SimpleRNN, LSTM\n",
    "\n",
    "from sklearn.preprocessing import MinMaxScaler\n",
    "\n",
    "from sklearn.metrics import mean_squared_error\n",
    "import numpy as np"
   ]
  },
  {
   "cell_type": "code",
   "execution_count": 2,
   "id": "5cdbf6f7",
   "metadata": {},
   "outputs": [],
   "source": [
    "df = pd.read_csv(\"BAJAJ-AUTO.csv\")"
   ]
  },
  {
   "cell_type": "code",
   "execution_count": 3,
   "id": "65207647",
   "metadata": {},
   "outputs": [
    {
     "data": {
      "text/html": [
       "<div>\n",
       "<style scoped>\n",
       "    .dataframe tbody tr th:only-of-type {\n",
       "        vertical-align: middle;\n",
       "    }\n",
       "\n",
       "    .dataframe tbody tr th {\n",
       "        vertical-align: top;\n",
       "    }\n",
       "\n",
       "    .dataframe thead th {\n",
       "        text-align: right;\n",
       "    }\n",
       "</style>\n",
       "<table border=\"1\" class=\"dataframe\">\n",
       "  <thead>\n",
       "    <tr style=\"text-align: right;\">\n",
       "      <th></th>\n",
       "      <th>Date</th>\n",
       "      <th>Symbol</th>\n",
       "      <th>Series</th>\n",
       "      <th>Prev Close</th>\n",
       "      <th>Open</th>\n",
       "      <th>High</th>\n",
       "      <th>Low</th>\n",
       "      <th>Last</th>\n",
       "      <th>Close</th>\n",
       "      <th>VWAP</th>\n",
       "      <th>Volume</th>\n",
       "      <th>Turnover</th>\n",
       "      <th>Trades</th>\n",
       "      <th>Deliverable Volume</th>\n",
       "      <th>%Deliverble</th>\n",
       "    </tr>\n",
       "  </thead>\n",
       "  <tbody>\n",
       "    <tr>\n",
       "      <th>0</th>\n",
       "      <td>2008-05-26</td>\n",
       "      <td>BAJAJ-AUTO</td>\n",
       "      <td>EQ</td>\n",
       "      <td>2101.05</td>\n",
       "      <td>898.00</td>\n",
       "      <td>898.0</td>\n",
       "      <td>551.35</td>\n",
       "      <td>600.25</td>\n",
       "      <td>604.75</td>\n",
       "      <td>624.61</td>\n",
       "      <td>3972485</td>\n",
       "      <td>2.481245e+14</td>\n",
       "      <td>NaN</td>\n",
       "      <td>1202933</td>\n",
       "      <td>0.3028</td>\n",
       "    </tr>\n",
       "    <tr>\n",
       "      <th>1</th>\n",
       "      <td>2008-05-27</td>\n",
       "      <td>BAJAJ-AUTO</td>\n",
       "      <td>EQ</td>\n",
       "      <td>604.75</td>\n",
       "      <td>624.70</td>\n",
       "      <td>639.0</td>\n",
       "      <td>580.30</td>\n",
       "      <td>595.50</td>\n",
       "      <td>593.15</td>\n",
       "      <td>606.43</td>\n",
       "      <td>1751063</td>\n",
       "      <td>1.061901e+14</td>\n",
       "      <td>NaN</td>\n",
       "      <td>369389</td>\n",
       "      <td>0.2110</td>\n",
       "    </tr>\n",
       "    <tr>\n",
       "      <th>2</th>\n",
       "      <td>2008-05-28</td>\n",
       "      <td>BAJAJ-AUTO</td>\n",
       "      <td>EQ</td>\n",
       "      <td>593.15</td>\n",
       "      <td>561.65</td>\n",
       "      <td>621.9</td>\n",
       "      <td>561.65</td>\n",
       "      <td>605.10</td>\n",
       "      <td>608.15</td>\n",
       "      <td>608.75</td>\n",
       "      <td>1652355</td>\n",
       "      <td>1.005877e+14</td>\n",
       "      <td>NaN</td>\n",
       "      <td>898602</td>\n",
       "      <td>0.5438</td>\n",
       "    </tr>\n",
       "    <tr>\n",
       "      <th>3</th>\n",
       "      <td>2008-05-29</td>\n",
       "      <td>BAJAJ-AUTO</td>\n",
       "      <td>EQ</td>\n",
       "      <td>608.15</td>\n",
       "      <td>619.40</td>\n",
       "      <td>619.4</td>\n",
       "      <td>576.00</td>\n",
       "      <td>600.00</td>\n",
       "      <td>599.45</td>\n",
       "      <td>600.98</td>\n",
       "      <td>669269</td>\n",
       "      <td>4.022165e+13</td>\n",
       "      <td>NaN</td>\n",
       "      <td>449951</td>\n",
       "      <td>0.6723</td>\n",
       "    </tr>\n",
       "    <tr>\n",
       "      <th>4</th>\n",
       "      <td>2008-05-30</td>\n",
       "      <td>BAJAJ-AUTO</td>\n",
       "      <td>EQ</td>\n",
       "      <td>599.45</td>\n",
       "      <td>605.40</td>\n",
       "      <td>607.0</td>\n",
       "      <td>538.00</td>\n",
       "      <td>576.25</td>\n",
       "      <td>571.70</td>\n",
       "      <td>565.55</td>\n",
       "      <td>1262117</td>\n",
       "      <td>7.137937e+13</td>\n",
       "      <td>NaN</td>\n",
       "      <td>936432</td>\n",
       "      <td>0.7420</td>\n",
       "    </tr>\n",
       "  </tbody>\n",
       "</table>\n",
       "</div>"
      ],
      "text/plain": [
       "         Date      Symbol Series  Prev Close    Open   High     Low    Last  \\\n",
       "0  2008-05-26  BAJAJ-AUTO     EQ     2101.05  898.00  898.0  551.35  600.25   \n",
       "1  2008-05-27  BAJAJ-AUTO     EQ      604.75  624.70  639.0  580.30  595.50   \n",
       "2  2008-05-28  BAJAJ-AUTO     EQ      593.15  561.65  621.9  561.65  605.10   \n",
       "3  2008-05-29  BAJAJ-AUTO     EQ      608.15  619.40  619.4  576.00  600.00   \n",
       "4  2008-05-30  BAJAJ-AUTO     EQ      599.45  605.40  607.0  538.00  576.25   \n",
       "\n",
       "    Close    VWAP   Volume      Turnover  Trades  Deliverable Volume  \\\n",
       "0  604.75  624.61  3972485  2.481245e+14     NaN             1202933   \n",
       "1  593.15  606.43  1751063  1.061901e+14     NaN              369389   \n",
       "2  608.15  608.75  1652355  1.005877e+14     NaN              898602   \n",
       "3  599.45  600.98   669269  4.022165e+13     NaN              449951   \n",
       "4  571.70  565.55  1262117  7.137937e+13     NaN              936432   \n",
       "\n",
       "   %Deliverble  \n",
       "0       0.3028  \n",
       "1       0.2110  \n",
       "2       0.5438  \n",
       "3       0.6723  \n",
       "4       0.7420  "
      ]
     },
     "execution_count": 3,
     "metadata": {},
     "output_type": "execute_result"
    }
   ],
   "source": [
    "df.head()"
   ]
  },
  {
   "cell_type": "code",
   "execution_count": 4,
   "id": "49653ce6",
   "metadata": {},
   "outputs": [
    {
     "data": {
      "text/html": [
       "<div>\n",
       "<style scoped>\n",
       "    .dataframe tbody tr th:only-of-type {\n",
       "        vertical-align: middle;\n",
       "    }\n",
       "\n",
       "    .dataframe tbody tr th {\n",
       "        vertical-align: top;\n",
       "    }\n",
       "\n",
       "    .dataframe thead th {\n",
       "        text-align: right;\n",
       "    }\n",
       "</style>\n",
       "<table border=\"1\" class=\"dataframe\">\n",
       "  <thead>\n",
       "    <tr style=\"text-align: right;\">\n",
       "      <th></th>\n",
       "      <th>Date</th>\n",
       "      <th>Symbol</th>\n",
       "      <th>Series</th>\n",
       "      <th>Prev Close</th>\n",
       "      <th>Open</th>\n",
       "      <th>High</th>\n",
       "      <th>Low</th>\n",
       "      <th>Last</th>\n",
       "      <th>Close</th>\n",
       "      <th>VWAP</th>\n",
       "      <th>Volume</th>\n",
       "      <th>Turnover</th>\n",
       "      <th>Trades</th>\n",
       "      <th>Deliverable Volume</th>\n",
       "      <th>%Deliverble</th>\n",
       "    </tr>\n",
       "  </thead>\n",
       "  <tbody>\n",
       "    <tr>\n",
       "      <th>3095</th>\n",
       "      <td>2020-11-23</td>\n",
       "      <td>BAJAJ-AUTO</td>\n",
       "      <td>EQ</td>\n",
       "      <td>3058.55</td>\n",
       "      <td>3068.0</td>\n",
       "      <td>3085.0</td>\n",
       "      <td>3030.6</td>\n",
       "      <td>3072.70</td>\n",
       "      <td>3077.75</td>\n",
       "      <td>3062.45</td>\n",
       "      <td>493600</td>\n",
       "      <td>1.511627e+14</td>\n",
       "      <td>23310.0</td>\n",
       "      <td>181731</td>\n",
       "      <td>0.3682</td>\n",
       "    </tr>\n",
       "    <tr>\n",
       "      <th>3096</th>\n",
       "      <td>2020-11-24</td>\n",
       "      <td>BAJAJ-AUTO</td>\n",
       "      <td>EQ</td>\n",
       "      <td>3077.75</td>\n",
       "      <td>3077.0</td>\n",
       "      <td>3122.0</td>\n",
       "      <td>3053.0</td>\n",
       "      <td>3094.90</td>\n",
       "      <td>3095.70</td>\n",
       "      <td>3096.37</td>\n",
       "      <td>858928</td>\n",
       "      <td>2.659557e+14</td>\n",
       "      <td>53118.0</td>\n",
       "      <td>276739</td>\n",
       "      <td>0.3222</td>\n",
       "    </tr>\n",
       "    <tr>\n",
       "      <th>3097</th>\n",
       "      <td>2020-11-25</td>\n",
       "      <td>BAJAJ-AUTO</td>\n",
       "      <td>EQ</td>\n",
       "      <td>3095.70</td>\n",
       "      <td>3100.0</td>\n",
       "      <td>3160.0</td>\n",
       "      <td>3041.0</td>\n",
       "      <td>3045.00</td>\n",
       "      <td>3051.25</td>\n",
       "      <td>3112.04</td>\n",
       "      <td>1219151</td>\n",
       "      <td>3.794049e+14</td>\n",
       "      <td>64380.0</td>\n",
       "      <td>190593</td>\n",
       "      <td>0.1563</td>\n",
       "    </tr>\n",
       "    <tr>\n",
       "      <th>3098</th>\n",
       "      <td>2020-11-26</td>\n",
       "      <td>BAJAJ-AUTO</td>\n",
       "      <td>EQ</td>\n",
       "      <td>3051.25</td>\n",
       "      <td>3053.0</td>\n",
       "      <td>3150.0</td>\n",
       "      <td>3053.0</td>\n",
       "      <td>3145.00</td>\n",
       "      <td>3129.20</td>\n",
       "      <td>3096.73</td>\n",
       "      <td>1264680</td>\n",
       "      <td>3.916374e+14</td>\n",
       "      <td>60615.0</td>\n",
       "      <td>356777</td>\n",
       "      <td>0.2821</td>\n",
       "    </tr>\n",
       "    <tr>\n",
       "      <th>3099</th>\n",
       "      <td>2020-11-27</td>\n",
       "      <td>BAJAJ-AUTO</td>\n",
       "      <td>EQ</td>\n",
       "      <td>3129.20</td>\n",
       "      <td>3144.9</td>\n",
       "      <td>3249.0</td>\n",
       "      <td>3135.7</td>\n",
       "      <td>3170.25</td>\n",
       "      <td>3173.55</td>\n",
       "      <td>3204.30</td>\n",
       "      <td>2548347</td>\n",
       "      <td>8.165657e+14</td>\n",
       "      <td>93783.0</td>\n",
       "      <td>657652</td>\n",
       "      <td>0.2581</td>\n",
       "    </tr>\n",
       "  </tbody>\n",
       "</table>\n",
       "</div>"
      ],
      "text/plain": [
       "            Date      Symbol Series  Prev Close    Open    High     Low  \\\n",
       "3095  2020-11-23  BAJAJ-AUTO     EQ     3058.55  3068.0  3085.0  3030.6   \n",
       "3096  2020-11-24  BAJAJ-AUTO     EQ     3077.75  3077.0  3122.0  3053.0   \n",
       "3097  2020-11-25  BAJAJ-AUTO     EQ     3095.70  3100.0  3160.0  3041.0   \n",
       "3098  2020-11-26  BAJAJ-AUTO     EQ     3051.25  3053.0  3150.0  3053.0   \n",
       "3099  2020-11-27  BAJAJ-AUTO     EQ     3129.20  3144.9  3249.0  3135.7   \n",
       "\n",
       "         Last    Close     VWAP   Volume      Turnover   Trades  \\\n",
       "3095  3072.70  3077.75  3062.45   493600  1.511627e+14  23310.0   \n",
       "3096  3094.90  3095.70  3096.37   858928  2.659557e+14  53118.0   \n",
       "3097  3045.00  3051.25  3112.04  1219151  3.794049e+14  64380.0   \n",
       "3098  3145.00  3129.20  3096.73  1264680  3.916374e+14  60615.0   \n",
       "3099  3170.25  3173.55  3204.30  2548347  8.165657e+14  93783.0   \n",
       "\n",
       "      Deliverable Volume  %Deliverble  \n",
       "3095              181731       0.3682  \n",
       "3096              276739       0.3222  \n",
       "3097              190593       0.1563  \n",
       "3098              356777       0.2821  \n",
       "3099              657652       0.2581  "
      ]
     },
     "execution_count": 4,
     "metadata": {},
     "output_type": "execute_result"
    }
   ],
   "source": [
    "df.tail()"
   ]
  },
  {
   "cell_type": "code",
   "execution_count": 5,
   "id": "f115e219",
   "metadata": {},
   "outputs": [
    {
     "data": {
      "text/plain": [
       "[<matplotlib.lines.Line2D at 0x2592f7f6e80>]"
      ]
     },
     "execution_count": 5,
     "metadata": {},
     "output_type": "execute_result"
    },
    {
     "data": {
      "image/png": "[encoded data removed]",
      "text/plain": [
       "<Figure size 432x288 with 1 Axes>"
      ]
     },
     "metadata": {
      "needs_background": "light"
     },
     "output_type": "display_data"
    }
   ],
   "source": [
    "plt.plot(df[\"Close\"])"
   ]
  },
  {
   "cell_type": "code",
   "execution_count": 6,
   "id": "ddb1ab49",
   "metadata": {},
   "outputs": [
    {
     "data": {
      "text/plain": [
       "(3100, 15)"
      ]
     },
     "execution_count": 6,
     "metadata": {},
     "output_type": "execute_result"
    }
   ],
   "source": [
    "df.shape"
   ]
  },
  {
   "cell_type": "code",
   "execution_count": 7,
   "id": "d3961b6b",
   "metadata": {},
   "outputs": [],
   "source": [
    "train = df[\"Close\"][:2170]\n",
    "test = df[\"Close\"][2170:]"
   ]
  },
  {
   "cell_type": "code",
   "execution_count": 8,
   "id": "bc7046e6",
   "metadata": {},
   "outputs": [
    {
     "data": {
      "text/plain": [
       "(2170,)"
      ]
     },
     "execution_count": 8,
     "metadata": {},
     "output_type": "execute_result"
    }
   ],
   "source": [
    "train.shape"
   ]
  },
  {
   "cell_type": "code",
   "execution_count": 9,
   "id": "14cdc2c8",
   "metadata": {},
   "outputs": [
    {
     "data": {
      "text/plain": [
       "(930,)"
      ]
     },
     "execution_count": 9,
     "metadata": {},
     "output_type": "execute_result"
    }
   ],
   "source": [
    "test.shape"
   ]
  },
  {
   "cell_type": "code",
   "execution_count": 10,
   "id": "b7c6f13c",
   "metadata": {},
   "outputs": [],
   "source": [
    "scaler = MinMaxScaler()\n",
    "train_scaled = scaler.fit_transform(np.array(train).reshape(-1,1))\n",
    "test_scaled = scaler.transform(np.array(test).reshape(-1,1))"
   ]
  },
  {
   "cell_type": "code",
   "execution_count": 11,
   "id": "a5ea261c",
   "metadata": {},
   "outputs": [],
   "source": [
    "#convert an array of values into a dataset matrix\n",
    "def create_dataset(dataset, time_step=1):\n",
    "    X, y = [], []\n",
    "    for i in range(len(dataset)-time_step-1):\n",
    "        sample = dataset[i:(i+time_step), 0]    \n",
    "        X.append(sample)\n",
    "        y.append(dataset[i + time_step, 0])\n",
    "    return np.array(X), np.array(y)"
   ]
  },
  {
   "cell_type": "code",
   "execution_count": 12,
   "id": "653566c6",
   "metadata": {},
   "outputs": [],
   "source": [
    "time_step = 50\n",
    "X_train, y_train = create_dataset(train_scaled, time_step)\n",
    "X_test, y_test = create_dataset(test_scaled, time_step)"
   ]
  },
  {
   "cell_type": "code",
   "execution_count": 13,
   "id": "d407cfc8",
   "metadata": {},
   "outputs": [
    {
     "name": "stdout",
     "output_type": "stream",
     "text": [
      "(2119, 50)\n",
      "(879, 50)\n"
     ]
    }
   ],
   "source": [
    "print(X_train.shape)\n",
    "print(X_test.shape)"
   ]
  },
  {
   "cell_type": "code",
   "execution_count": 14,
   "id": "2eb1cb22",
   "metadata": {},
   "outputs": [],
   "source": [
    "# reshape into (samples, time steps, features) \n",
    "X_train = X_train.reshape(X_train.shape[0],X_train.shape[1] , 1)\n",
    "X_test  = X_test.reshape(X_test.shape[0],X_test.shape[1] , 1)"
   ]
  },
  {
   "cell_type": "code",
   "execution_count": 15,
   "id": "aac8791c",
   "metadata": {},
   "outputs": [
    {
     "name": "stdout",
     "output_type": "stream",
     "text": [
      "(2119, 50, 1)\n",
      "(879, 50, 1)\n"
     ]
    }
   ],
   "source": [
    "print(X_train.shape)\n",
    "print(X_test.shape)"
   ]
  },
  {
   "cell_type": "code",
   "execution_count": 16,
   "id": "1cd6f1b9",
   "metadata": {},
   "outputs": [],
   "source": [
    "model = Sequential()\n",
    "model.add(SimpleRNN(32, return_sequences=True, input_shape=(time_step,1)))\n",
    "model.add(SimpleRNN(32))\n",
    "model.add(Dense(1))\n",
    "model.compile(loss='mean_squared_error',optimizer='adam')"
   ]
  },
  {
   "cell_type": "code",
   "execution_count": 17,
   "id": "61ea39a2",
   "metadata": {},
   "outputs": [
    {
     "name": "stdout",
     "output_type": "stream",
     "text": [
      "Epoch 1/20\n",
      "67/67 [==============================] - 2s 12ms/step - loss: 0.0594\n",
      "Epoch 2/20\n",
      "67/67 [==============================] - 1s 14ms/step - loss: 0.0016\n",
      "Epoch 3/20\n",
      "67/67 [==============================] - 1s 13ms/step - loss: 0.0012\n",
      "Epoch 4/20\n",
      "67/67 [==============================] - 1s 12ms/step - loss: 9.9688e-04\n",
      "Epoch 5/20\n",
      "67/67 [==============================] - 1s 12ms/step - loss: 8.8079e-04\n",
      "Epoch 6/20\n",
      "67/67 [==============================] - 1s 12ms/step - loss: 9.0445e-04\n",
      "Epoch 7/20\n",
      "67/67 [==============================] - 1s 13ms/step - loss: 7.5397e-04\n",
      "Epoch 8/20\n",
      "67/67 [==============================] - 1s 14ms/step - loss: 8.1282e-04\n",
      "Epoch 9/20\n",
      "67/67 [==============================] - 1s 14ms/step - loss: 7.1421e-04\n",
      "Epoch 10/20\n",
      "67/67 [==============================] - 1s 12ms/step - loss: 6.0386e-04\n",
      "Epoch 11/20\n",
      "67/67 [==============================] - 1s 12ms/step - loss: 5.3694e-04\n",
      "Epoch 12/20\n",
      "67/67 [==============================] - 1s 14ms/step - loss: 5.8889e-04\n",
      "Epoch 13/20\n",
      "67/67 [==============================] - 1s 16ms/step - loss: 4.8008e-04\n",
      "Epoch 14/20\n",
      "67/67 [==============================] - 1s 13ms/step - loss: 4.7191e-04\n",
      "Epoch 15/20\n",
      "67/67 [==============================] - 1s 15ms/step - loss: 4.5945e-04\n",
      "Epoch 16/20\n",
      "67/67 [==============================] - 1s 13ms/step - loss: 4.5544e-04\n",
      "Epoch 17/20\n",
      "67/67 [==============================] - 1s 14ms/step - loss: 4.4622e-04\n",
      "Epoch 18/20\n",
      "67/67 [==============================] - 1s 13ms/step - loss: 4.9952e-04\n",
      "Epoch 19/20\n",
      "67/67 [==============================] - 1s 13ms/step - loss: 4.2526e-04\n",
      "Epoch 20/20\n",
      "67/67 [==============================] - 1s 14ms/step - loss: 4.2606e-04\n"
     ]
    },
    {
     "data": {
      "text/plain": [
       "<keras.callbacks.History at 0x25930237af0>"
      ]
     },
     "execution_count": 17,
     "metadata": {},
     "output_type": "execute_result"
    }
   ],
   "source": [
    "model.fit(X_train,y_train, epochs=20, batch_size=32)"
   ]
  },
  {
   "cell_type": "code",
   "execution_count": 18,
   "id": "a1f78446",
   "metadata": {},
   "outputs": [
    {
     "data": {
      "text/plain": [
       "0.0003990128458580506"
      ]
     },
     "execution_count": 18,
     "metadata": {},
     "output_type": "execute_result"
    }
   ],
   "source": [
    "y_pred = model.predict(X_test)\n",
    "mean_squared_error(y_test,y_pred)"
   ]
  },
  {
   "cell_type": "code",
   "execution_count": 19,
   "id": "22a31bce",
   "metadata": {},
   "outputs": [
    {
     "data": {
      "image/png": "[encoded data removed]",
      "text/plain": [
       "<Figure size 432x288 with 1 Axes>"
      ]
     },
     "metadata": {
      "needs_background": "light"
     },
     "output_type": "display_data"
    }
   ],
   "source": [
    "plt.figure()\n",
    "plt.plot(scaler.inverse_transform(np.array(y_test).reshape(-1,1)))\n",
    "plt.plot(scaler.inverse_transform(y_pred))\n",
    "plt.show()"
   ]
  },
  {
   "cell_type": "code",
   "execution_count": 20,
   "id": "d0e621bf",
   "metadata": {},
   "outputs": [],
   "source": [
    "model = Sequential()\n",
    "model.add(LSTM(32, return_sequences=True, input_shape=(time_step,1)))\n",
    "model.add(LSTM(32, return_sequences=True))\n",
    "model.add(LSTM(32))\n",
    "model.add(Dense(1))\n",
    "model.compile(loss='mean_squared_error',optimizer='adam')"
   ]
  },
  {
   "cell_type": "code",
   "execution_count": 21,
   "id": "cca1f101",
   "metadata": {},
   "outputs": [
    {
     "name": "stdout",
     "output_type": "stream",
     "text": [
      "Epoch 1/20\n",
      "67/67 [==============================] - 8s 39ms/step - loss: 0.0308\n",
      "Epoch 2/20\n",
      "67/67 [==============================] - 3s 39ms/step - loss: 0.0023\n",
      "Epoch 3/20\n",
      "67/67 [==============================] - 3s 40ms/step - loss: 0.0021\n",
      "Epoch 4/20\n",
      "67/67 [==============================] - 3s 40ms/step - loss: 0.0020\n",
      "Epoch 5/20\n",
      "67/67 [==============================] - 3s 41ms/step - loss: 0.0019\n",
      "Epoch 6/20\n",
      "67/67 [==============================] - 3s 39ms/step - loss: 0.0018\n",
      "Epoch 7/20\n",
      "67/67 [==============================] - 3s 38ms/step - loss: 0.0016\n",
      "Epoch 8/20\n",
      "67/67 [==============================] - 3s 38ms/step - loss: 0.0016\n",
      "Epoch 9/20\n",
      "67/67 [==============================] - 3s 39ms/step - loss: 0.0015\n",
      "Epoch 10/20\n",
      "67/67 [==============================] - 2s 37ms/step - loss: 0.0017\n",
      "Epoch 11/20\n",
      "67/67 [==============================] - 3s 40ms/step - loss: 0.0013\n",
      "Epoch 12/20\n",
      "67/67 [==============================] - 3s 39ms/step - loss: 0.0014\n",
      "Epoch 13/20\n",
      "67/67 [==============================] - 3s 38ms/step - loss: 0.0013\n",
      "Epoch 14/20\n",
      "67/67 [==============================] - 3s 38ms/step - loss: 0.0012\n",
      "Epoch 15/20\n",
      "67/67 [==============================] - 3s 38ms/step - loss: 0.0012\n",
      "Epoch 16/20\n",
      "67/67 [==============================] - 3s 39ms/step - loss: 0.0012\n",
      "Epoch 17/20\n",
      "67/67 [==============================] - 3s 40ms/step - loss: 0.0011\n",
      "Epoch 18/20\n",
      "67/67 [==============================] - 3s 38ms/step - loss: 0.0010\n",
      "Epoch 19/20\n",
      "67/67 [==============================] - 3s 39ms/step - loss: 0.0010\n",
      "Epoch 20/20\n",
      "67/67 [==============================] - 3s 39ms/step - loss: 0.0011\n"
     ]
    },
    {
     "data": {
      "text/plain": [
       "<keras.callbacks.History at 0x2593aab2940>"
      ]
     },
     "execution_count": 21,
     "metadata": {},
     "output_type": "execute_result"
    }
   ],
   "source": [
    "model.fit(X_train,y_train, epochs=20, batch_size=32)"
   ]
  },
  {
   "cell_type": "code",
   "execution_count": 22,
   "id": "ddc0d0b1",
   "metadata": {},
   "outputs": [
    {
     "data": {
      "text/plain": [
       "0.0014908201991205596"
      ]
     },
     "execution_count": 22,
     "metadata": {},
     "output_type": "execute_result"
    }
   ],
   "source": [
    "y_pred = model.predict(X_test)\n",
    "mean_squared_error(y_test,y_pred)"
   ]
  },
  {
   "cell_type": "code",
   "execution_count": 23,
   "id": "bb19c21b",
   "metadata": {},
   "outputs": [
    {
     "data": {
      "image/png": "[encoded data removed]",
      "text/plain": [
       "<Figure size 432x288 with 1 Axes>"
      ]
     },
     "metadata": {
      "needs_background": "light"
     },
     "output_type": "display_data"
    }
   ],
   "source": [
    "plt.figure()\n",
    "plt.plot(scaler.inverse_transform(np.array(y_test).reshape(-1,1)))\n",
    "plt.plot(scaler.inverse_transform(y_pred))\n",
    "plt.show()"
   ]
  },
  {
   "cell_type": "code",
   "execution_count": 24,
   "id": "b36d20d5",
   "metadata": {},
   "outputs": [],
   "source": [
    "# next 50 days\n",
    "\n",
    "days = 50\n",
    "last_input = X_test[-1]\n",
    "last_output = y_pred[-1]\n",
    "y_forecast = []\n",
    "\n",
    "for i in range(1,days+1):\n",
    "    last_input = np.append(last_input[1:], last_output)\n",
    "    last_output = model.predict(last_input.reshape(1,50,1))\n",
    "    y_forecast.append(last_output[0][0])\n",
    "    "
   ]
  },
  {
   "cell_type": "code",
   "execution_count": 25,
   "id": "bb244645",
   "metadata": {},
   "outputs": [],
   "source": [
    "all_predictions = np.append(y_pred,y_forecast)"
   ]
  },
  {
   "cell_type": "code",
   "execution_count": 26,
   "id": "2b00e46b",
   "metadata": {},
   "outputs": [
    {
     "data": {
      "image/png": "[encoded data removed]",
      "text/plain": [
       "<Figure size 432x288 with 1 Axes>"
      ]
     },
     "metadata": {
      "needs_background": "light"
     },
     "output_type": "display_data"
    }
   ],
   "source": [
    "plt.figure()\n",
    "plt.plot(scaler.inverse_transform(np.array(y_test).reshape(-1,1)))\n",
    "plt.plot(scaler.inverse_transform(all_predictions.reshape(-1,1)))\n",
    "plt.show()"
   ]
  },
  {
   "cell_type": "code",
   "execution_count": null,
   "id": "56ec42b3",
   "metadata": {},
   "outputs": [],
   "source": []
  }
 ],
 "metadata": {
  "kernelspec": {
   "display_name": "Python 3 (ipykernel)",
   "language": "python",
   "name": "python3"
  },
  "language_info": {
   "codemirror_mode": {
    "name": "ipython",
    "version": 3
   },
   "file_extension": ".py",
   "mimetype": "text/x-python",
   "name": "python",
   "nbconvert_exporter": "python",
   "pygments_lexer": "ipython3",
   "version": "3.8.11"
  }
 },
 "nbformat": 4,
 "nbformat_minor": 5
}
